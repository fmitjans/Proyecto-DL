{
  "cells": [
    {
      "cell_type": "markdown",
      "metadata": {
        "id": "s0wFIqVZsC3V"
      },
      "source": [
        "# Proyecto DL"
      ]
    },
    {
      "cell_type": "markdown",
      "metadata": {
        "id": "GQh6AYbhsFR7"
      },
      "source": [
        "### Librerias"
      ]
    },
    {
      "cell_type": "code",
      "execution_count": null,
      "metadata": {
        "id": "2rkpQM1qsoHd"
      },
      "outputs": [],
      "source": [
        "!pip install flair\n",
        "!pip install rouge\n",
        "!pip install sacrebleu"
      ]
    },
    {
      "cell_type": "code",
      "execution_count": null,
      "metadata": {
        "id": "6E8XLmz-plki"
      },
      "outputs": [],
      "source": [
        "from transformers import MarianMTModel, MarianTokenizer\n",
        "import pandas as pd\n",
        "from rouge import Rouge\n",
        "import sacrebleu\n",
        "from flair.models import SequenceTagger\n",
        "from flair.data import Sentence"
      ]
    },
    {
      "cell_type": "markdown",
      "metadata": {
        "id": "2Mqq6b9KsIzk"
      },
      "source": [
        "### Modelo y función de translate"
      ]
    },
    {
      "cell_type": "markdown",
      "metadata": {
        "id": "5cRKHbmzs1Fc"
      },
      "source": [
        "https://huggingface.co/Helsinki-NLP/opus-mt-es-en"
      ]
    },
    {
      "cell_type": "code",
      "execution_count": null,
      "metadata": {
        "collapsed": true,
        "id": "YkbVBj76p_kF",
        "jupyter": {
          "outputs_hidden": true
        }
      },
      "outputs": [],
      "source": [
        "model_name = 'Helsinki-NLP/opus-mt-es-en'\n",
        "\n",
        "tokenizer = MarianTokenizer.from_pretrained(model_name)\n",
        "model = MarianMTModel.from_pretrained(model_name)\n",
        "#model"
      ]
    },
    {
      "cell_type": "code",
      "execution_count": null,
      "metadata": {
        "id": "8TRzBfffqY3r"
      },
      "outputs": [],
      "source": [
        "def translate(text):\n",
        "    inputs = tokenizer(text, return_tensors=\"pt\", padding=True)\n",
        "\n",
        "    translated = model.generate(**inputs)\n",
        "\n",
        "    translation = tokenizer.decode(translated[0], skip_special_tokens=True)\n",
        "    return translation"
      ]
    },
    {
      "cell_type": "code",
      "execution_count": null,
      "metadata": {
        "id": "fjiUBd1fqeiT"
      },
      "outputs": [],
      "source": [
        "input = \"He aprendido mucho sobre modelos de lenguaje en este proyecto\"\n",
        "reference = \"I have learned a lot about language models in this project\"\n",
        "candidate = translate(input)\n",
        "\n",
        "print(\"Candidate:\", candidate)\n",
        "print(\"Referencia:\", reference)"
      ]
    },
    {
      "cell_type": "markdown",
      "metadata": {
        "id": "yQqSII_dsfMs"
      },
      "source": [
        "### Metrica Rouge"
      ]
    },
    {
      "cell_type": "markdown",
      "metadata": {
        "id": "hZ-9g8h2tIEh"
      },
      "source": [
        "https://medium.com/nlplanet/two-minutes-nlp-learn-the-rouge-metric-by-examples-f179cc285499\n",
        "\n",
        "https://github.com/pltrdy/rouge"
      ]
    },
    {
      "cell_type": "markdown",
      "metadata": {
        "id": "X7Y9OkFxtKvO"
      },
      "source": [
        "R: reference\n",
        "\n",
        "C: candidate\n"
      ]
    },
    {
      "cell_type": "code",
      "execution_count": null,
      "metadata": {
        "id": "dYu9mk1Zsjb7"
      },
      "outputs": [],
      "source": [
        "rouge = Rouge()\n",
        "scores = rouge.get_scores(candidates, english_sample)\n",
        "scores"
      ]
    },
    {
      "cell_type": "markdown",
      "metadata": {
        "id": "JPziy-jQxhsN"
      },
      "source": [
        "### Metrica bleu"
      ]
    },
    {
      "cell_type": "markdown",
      "metadata": {
        "id": "rY7Xy1X4ydgk"
      },
      "source": [
        "https://aclanthology.org/P02-1040.pdf"
      ]
    },
    {
      "cell_type": "code",
      "execution_count": null,
      "metadata": {
        "id": "QX8fyd9-xkfu"
      },
      "outputs": [],
      "source": [
        "bleu_score = sacrebleu.corpus_bleu([candidate], [[reference]])\n",
        "bleu_score.score"
      ]
    },
    {
      "cell_type": "markdown",
      "metadata": {
        "id": "4HHYbQwLsMeK"
      },
      "source": [
        "### Dataset"
      ]
    },
    {
      "cell_type": "markdown",
      "metadata": {
        "id": "vX9B7ZIWs37o"
      },
      "source": [
        "https://www.dropbox.com/scl/fi/xtvls58le65vxjfkmuv9x/Sentence-pairs-in-Spanish-English-2024-07-03.tsv?rlkey=3la4vmua8d5f5ltdknfhmcmyt&st=6cdj4k63&dl=0"
      ]
    },
    {
      "cell_type": "code",
      "source": [
        "from google.colab import drive\n",
        "drive.mount('/content/drive')"
      ],
      "metadata": {
        "id": "rnhWO4xu-vk7"
      },
      "execution_count": null,
      "outputs": []
    },
    {
      "cell_type": "markdown",
      "metadata": {
        "id": "rAUeE5hhvDGL"
      },
      "source": [
        "Nose que significa ese number, en vola id de la traduccion tb?"
      ]
    },
    {
      "cell_type": "code",
      "execution_count": null,
      "metadata": {
        "id": "yI_8WK3Du7Ad"
      },
      "outputs": [],
      "source": [
        "column_names = ['id_es', 'spanish', 'id_en', 'english']\n",
        "\n",
        "data = pd.read_csv('/content/drive/MyDrive/Sentence pairs in Spanish-English - 2024-07-03.tsv', sep='\\t', names=column_names, header=None)"
      ]
    },
    {
      "cell_type": "markdown",
      "metadata": {
        "id": "GERKZIyUSF1Q"
      },
      "source": [
        "### NER(Named-entity recognition)"
      ]
    },
    {
      "cell_type": "code",
      "execution_count": null,
      "metadata": {
        "id": "R_Yydvirt0l4"
      },
      "outputs": [],
      "source": [
        "#data.head()\n",
        "data.describe()"
      ]
    },
    {
      "cell_type": "code",
      "execution_count": null,
      "metadata": {
        "id": "xkSC9ZUdxanr"
      },
      "outputs": [],
      "source": [
        "import sacrebleu\n",
        "\n",
        "\n",
        "# Extracción de las columnas necesarias\n",
        "spanish_inputs = data['spanish'].tolist()[0:5]\n",
        "candidates = []\n",
        "for input in spanish_inputs:\n",
        "    candidates.append(translate(input))\n",
        "\n",
        "references = data['english'].tolist()[0:5]\n",
        "\n",
        "# Bleu\n",
        "def calculate_bleu(candidate_list, reference_list):\n",
        "    bleu_score = sacrebleu.corpus_bleu(candidate_list, [reference_list])\n",
        "    print(f\"BLEU Score: {bleu_score.score}\")\n",
        "    return bleu_score.score\n",
        "\n",
        "\n",
        "# Rogue\n",
        "def calculate_rogue(candidates, references):\n",
        "    scores = rouge.get_scores(candidates, references)\n",
        "    fscores = [score[\"rouge-l\"][\"f\"] for score in scores]\n",
        "    avg = sum(fscores) / len(fscores)\n",
        "    print(f\"Rogue Scores: {avg}\")\n",
        "\n",
        "\n",
        "print(references)\n",
        "print(candidates)\n",
        "calculate_bleu(candidates, references)\n",
        "calculate_rogue(candidates, references)"
      ]
    },
    {
      "cell_type": "code",
      "source": [
        "# tagger = SequenceTagger.load(\"flair/upos-english-fast\")\n",
        "\n",
        "def text_to_pos(text):\n",
        "    sentence = Sentence(text)\n",
        "    tagger.predict(sentence)\n",
        "    pos_list = [word.value for word in sentence.labels]\n",
        "    return \" \".join(pos_list)\n",
        "\n",
        "def list_to_pos(list):\n",
        "    pos_list = []\n",
        "    for text in list:\n",
        "        pos_list.append(text_to_pos(text))\n",
        "    return pos_list\n",
        "\n",
        "def compare_pos(candidates, labels):\n",
        "    for i in range(len(candidates)):\n",
        "        candidate = candidates[i]\n",
        "        label = labels[i]\n",
        "        candidate_pos = text_to_pos(candidate)\n",
        "        label_pos = text_to_pos(label)\n",
        "        if (candidate != label):\n",
        "          print(f\"Candidate: {candidate}\")\n",
        "          print(f\"POS candidate: {candidate_pos}\")\n",
        "          print(f\"Reference: {label}\")\n",
        "          print(f\"POS candidate: {label_pos}\")\n",
        "          print(f\"Match? {candidate_pos == label_pos}\\n\")\n",
        "\n",
        "\n",
        "candidates_pos = list_to_pos(candidates)\n",
        "references_pos = list_to_pos(references)\n",
        "print(candidates)\n",
        "print(references)\n",
        "calculate_bleu(candidates, references)\n",
        "calculate_rogue(candidates, references)\n",
        "print(candidates_pos)\n",
        "print(references_pos)\n",
        "calculate_bleu(candidates_pos, references_pos)\n",
        "calculate_rogue(candidates_pos, references_pos)"
      ],
      "metadata": {
        "id": "2CiTEKP_YJqp"
      },
      "execution_count": null,
      "outputs": []
    },
    {
      "cell_type": "markdown",
      "metadata": {
        "id": "IJzHMqp3SPnz"
      },
      "source": [
        "https://github.com/marcelomendoza/IIC3670/blob/main/codes/8%20-%20SEQUENCE%20LABELING%2C%20POS%20TAGGING%20Y%20NER.ipynb"
      ]
    }
  ],
  "metadata": {
    "colab": {
      "provenance": []
    },
    "kernelspec": {
      "display_name": "Python 3",
      "name": "python3"
    },
    "language_info": {
      "codemirror_mode": {
        "name": "ipython",
        "version": 3
      },
      "file_extension": ".py",
      "mimetype": "text/x-python",
      "name": "python",
      "nbconvert_exporter": "python",
      "pygments_lexer": "ipython3",
      "version": "3.10.12"
    }
  },
  "nbformat": 4,
  "nbformat_minor": 0
}