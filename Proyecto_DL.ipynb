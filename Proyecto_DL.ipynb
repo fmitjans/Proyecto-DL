{
  "cells": [
    {
      "cell_type": "markdown",
      "metadata": {
        "id": "s0wFIqVZsC3V"
      },
      "source": [
        "# Proyecto DL"
      ]
    },
    {
      "cell_type": "markdown",
      "metadata": {
        "id": "GQh6AYbhsFR7"
      },
      "source": [
        "### Librerias"
      ]
    },
    {
      "cell_type": "code",
      "execution_count": null,
      "metadata": {
        "id": "2rkpQM1qsoHd"
      },
      "outputs": [],
      "source": [
        "!pip install rouge\n",
        "!pip install sacrebleu"
      ]
    },
    {
      "cell_type": "code",
      "execution_count": null,
      "metadata": {
        "id": "6E8XLmz-plki"
      },
      "outputs": [],
      "source": [
        "from transformers import MarianMTModel, MarianTokenizer\n",
        "import pandas as pd\n",
        "from rouge import Rouge\n",
        "import sacrebleu"
      ]
    },
    {
      "cell_type": "markdown",
      "metadata": {
        "id": "2Mqq6b9KsIzk"
      },
      "source": [
        "### Modelo y función de translate"
      ]
    },
    {
      "cell_type": "markdown",
      "metadata": {
        "id": "5cRKHbmzs1Fc"
      },
      "source": [
        "https://huggingface.co/Helsinki-NLP/opus-mt-es-en"
      ]
    },
    {
      "cell_type": "code",
      "execution_count": null,
      "metadata": {
        "collapsed": true,
        "id": "YkbVBj76p_kF",
        "jupyter": {
          "outputs_hidden": true
        }
      },
      "outputs": [],
      "source": [
        "model_name = 'Helsinki-NLP/opus-mt-es-en'\n",
        "\n",
        "tokenizer = MarianTokenizer.from_pretrained(model_name)\n",
        "model = MarianMTModel.from_pretrained(model_name)\n",
        "#model"
      ]
    },
    {
      "cell_type": "code",
      "execution_count": null,
      "metadata": {
        "id": "8TRzBfffqY3r"
      },
      "outputs": [],
      "source": [
        "def translate(text):\n",
        "    inputs = tokenizer(text, return_tensors=\"pt\", padding=True)\n",
        "\n",
        "    translated = model.generate(**inputs)\n",
        "\n",
        "    translation = tokenizer.decode(translated[0], skip_special_tokens=True)\n",
        "    return translation"
      ]
    },
    {
      "cell_type": "code",
      "execution_count": null,
      "metadata": {
        "id": "fjiUBd1fqeiT"
      },
      "outputs": [],
      "source": [
        "input = \"He aprendido mucho sobre modelos de lenguaje en este proyecto\"\n",
        "reference = \"I have learned a lot about language models in this project\"\n",
        "candidate = translate(input)\n",
        "\n",
        "print(\"Candidate:\", candidate)\n",
        "print(\"Referencia:\", reference)"
      ]
    },
    {
      "cell_type": "markdown",
      "metadata": {
        "id": "yQqSII_dsfMs"
      },
      "source": [
        "### Metrica Rouge"
      ]
    },
    {
      "cell_type": "markdown",
      "metadata": {
        "id": "hZ-9g8h2tIEh"
      },
      "source": [
        "https://medium.com/nlplanet/two-minutes-nlp-learn-the-rouge-metric-by-examples-f179cc285499\n",
        "\n",
        "https://github.com/pltrdy/rouge"
      ]
    },
    {
      "cell_type": "markdown",
      "metadata": {
        "id": "X7Y9OkFxtKvO"
      },
      "source": [
        "R: reference\n",
        "\n",
        "C: candidate\n"
      ]
    },
    {
      "cell_type": "code",
      "execution_count": null,
      "metadata": {
        "id": "dYu9mk1Zsjb7"
      },
      "outputs": [],
      "source": [
        "rouge = Rouge()\n",
        "scores = rouge.get_scores(candidate, reference)\n",
        "scores"
      ]
    },
    {
      "cell_type": "markdown",
      "metadata": {
        "id": "JPziy-jQxhsN"
      },
      "source": [
        "### Metrica bleu"
      ]
    },
    {
      "cell_type": "markdown",
      "metadata": {
        "id": "rY7Xy1X4ydgk"
      },
      "source": [
        "https://aclanthology.org/P02-1040.pdf"
      ]
    },
    {
      "cell_type": "code",
      "execution_count": null,
      "metadata": {
        "id": "QX8fyd9-xkfu"
      },
      "outputs": [],
      "source": [
        "bleu_score = sacrebleu.corpus_bleu([candidate], [[reference]])\n",
        "bleu_score.score"
      ]
    },
    {
      "cell_type": "code",
      "execution_count": null,
      "metadata": {
        "id": "xkSC9ZUdxanr"
      },
      "outputs": [],
      "source": [
        "# import sacrebleu\n",
        "\n",
        "# # Función para calcular BLEU Score\n",
        "# def calculate_bleu(reference_texts, candidate_texts):\n",
        "#     bleu_score = sacrebleu.corpus_bleu(candidate_texts, [reference_texts])\n",
        "#     return bleu_score.score\n",
        "\n",
        "# # Extracción de las columnas necesarias\n",
        "# reference_texts = data['reference'].tolist()\n",
        "# candidate_texts = data['candidate'].tolist()\n",
        "\n",
        "# # Cálculo del BLEU Score\n",
        "# bleu_score = calculate_bleu(reference_texts, candidate_texts)\n",
        "# print(f\"BLEU Score: {bleu_score}\")"
      ]
    },
    {
      "cell_type": "markdown",
      "metadata": {
        "id": "4HHYbQwLsMeK"
      },
      "source": [
        "### Dataset"
      ]
    },
    {
      "cell_type": "markdown",
      "metadata": {
        "id": "vX9B7ZIWs37o"
      },
      "source": [
        "https://www.dropbox.com/scl/fi/xtvls58le65vxjfkmuv9x/Sentence-pairs-in-Spanish-English-2024-07-03.tsv?rlkey=3la4vmua8d5f5ltdknfhmcmyt&st=6cdj4k63&dl=0"
      ]
    },
    {
      "cell_type": "code",
      "source": [
        "from google.colab import drive\n",
        "drive.mount('/content/drive')"
      ],
      "metadata": {
        "id": "rnhWO4xu-vk7"
      },
      "execution_count": null,
      "outputs": []
    },
    {
      "cell_type": "markdown",
      "metadata": {
        "id": "rAUeE5hhvDGL"
      },
      "source": [
        "Nose que significa ese number, en vola id de la traduccion tb?"
      ]
    },
    {
      "cell_type": "code",
      "execution_count": null,
      "metadata": {
        "id": "yI_8WK3Du7Ad"
      },
      "outputs": [],
      "source": [
        "column_names = ['id_reference', 'reference', 'number', 'candidate']\n",
        "\n",
        "data = pd.read_csv('/content/drive/MyDrive/Sentence pairs in Spanish-English - 2024-07-03.tsv', sep='\\t', names=column_names, header=None)"
      ]
    },
    {
      "cell_type": "code",
      "execution_count": null,
      "metadata": {
        "id": "R_Yydvirt0l4"
      },
      "outputs": [],
      "source": [
        "data.head()\n",
        "# data.describe()"
      ]
    },
    {
      "cell_type": "markdown",
      "metadata": {
        "id": "GERKZIyUSF1Q"
      },
      "source": [
        "### NER(Named-entity recognition)"
      ]
    },
    {
      "cell_type": "markdown",
      "metadata": {
        "id": "IJzHMqp3SPnz"
      },
      "source": [
        "https://github.com/marcelomendoza/IIC3670/blob/main/codes/8%20-%20SEQUENCE%20LABELING%2C%20POS%20TAGGING%20Y%20NER.ipynb"
      ]
    }
  ],
  "metadata": {
    "colab": {
      "provenance": []
    },
    "kernelspec": {
      "display_name": "Python 3",
      "name": "python3"
    },
    "language_info": {
      "codemirror_mode": {
        "name": "ipython",
        "version": 3
      },
      "file_extension": ".py",
      "mimetype": "text/x-python",
      "name": "python",
      "nbconvert_exporter": "python",
      "pygments_lexer": "ipython3",
      "version": "3.10.12"
    }
  },
  "nbformat": 4,
  "nbformat_minor": 0
}