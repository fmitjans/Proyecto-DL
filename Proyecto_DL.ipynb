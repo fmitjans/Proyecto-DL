{
  "cells": [
    {
      "cell_type": "markdown",
      "metadata": {
        "id": "s0wFIqVZsC3V"
      },
      "source": [
        "# Proyecto DL"
      ]
    },
    {
      "cell_type": "markdown",
      "metadata": {
        "id": "GQh6AYbhsFR7"
      },
      "source": [
        "### Librerias"
      ]
    },
    {
      "cell_type": "code",
      "execution_count": null,
      "metadata": {
        "id": "2rkpQM1qsoHd"
      },
      "outputs": [],
      "source": [
        "!pip install flair\n",
        "!pip install rouge\n",
        "!pip install sacrebleu"
      ]
    },
    {
      "cell_type": "code",
      "execution_count": null,
      "metadata": {
        "id": "6E8XLmz-plki"
      },
      "outputs": [],
      "source": [
        "from transformers import MarianMTModel, MarianTokenizer\n",
        "import pandas as pd\n",
        "import numpy as np\n",
        "from rouge import Rouge\n",
        "import sacrebleu\n",
        "from flair.models import SequenceTagger\n",
        "from flair.data import Sentence"
      ]
    },
    {
      "cell_type": "markdown",
      "metadata": {
        "id": "2Mqq6b9KsIzk"
      },
      "source": [
        "### Modelo y función de translate"
      ]
    },
    {
      "cell_type": "markdown",
      "metadata": {
        "id": "5cRKHbmzs1Fc"
      },
      "source": [
        "https://huggingface.co/Helsinki-NLP/opus-mt-es-en"
      ]
    },
    {
      "cell_type": "code",
      "execution_count": null,
      "metadata": {
        "collapsed": true,
        "id": "YkbVBj76p_kF",
        "jupyter": {
          "outputs_hidden": true
        }
      },
      "outputs": [],
      "source": [
        "model_name = 'Helsinki-NLP/opus-mt-es-en'\n",
        "\n",
        "tokenizer = MarianTokenizer.from_pretrained(model_name)\n",
        "model = MarianMTModel.from_pretrained(model_name)\n",
        "#model"
      ]
    },
    {
      "cell_type": "code",
      "execution_count": null,
      "metadata": {
        "id": "8TRzBfffqY3r"
      },
      "outputs": [],
      "source": [
        "def translate(text):\n",
        "    inputs = tokenizer(text, return_tensors=\"pt\", padding=True)\n",
        "\n",
        "    translated = model.generate(**inputs)\n",
        "\n",
        "    translation = tokenizer.decode(translated[0], skip_special_tokens=True)\n",
        "    return translation"
      ]
    },
    {
      "cell_type": "code",
      "execution_count": null,
      "metadata": {
        "id": "fjiUBd1fqeiT"
      },
      "outputs": [],
      "source": [
        "input = \"He aprendido mucho sobre modelos de lenguaje en este proyecto\"\n",
        "reference = \"I have learned a lot about language models in this project\"\n",
        "candidate = translate(input)\n",
        "\n",
        "print(\"Candidate:\", candidate)\n",
        "print(\"Referencia:\", reference)"
      ]
    },
    {
      "cell_type": "markdown",
      "metadata": {
        "id": "yQqSII_dsfMs"
      },
      "source": [
        "### Metrica Rouge"
      ]
    },
    {
      "cell_type": "markdown",
      "metadata": {
        "id": "hZ-9g8h2tIEh"
      },
      "source": [
        "https://medium.com/nlplanet/two-minutes-nlp-learn-the-rouge-metric-by-examples-f179cc285499\n",
        "\n",
        "https://github.com/pltrdy/rouge"
      ]
    },
    {
      "cell_type": "code",
      "execution_count": null,
      "metadata": {
        "id": "dYu9mk1Zsjb7"
      },
      "outputs": [],
      "source": [
        "scores = Rouge().get_scores(candidate, reference)\n",
        "scores"
      ]
    },
    {
      "cell_type": "markdown",
      "metadata": {
        "id": "JPziy-jQxhsN"
      },
      "source": [
        "### Metrica bleu"
      ]
    },
    {
      "cell_type": "markdown",
      "metadata": {
        "id": "rY7Xy1X4ydgk"
      },
      "source": [
        "https://aclanthology.org/P02-1040.pdf"
      ]
    },
    {
      "cell_type": "code",
      "execution_count": null,
      "metadata": {
        "id": "QX8fyd9-xkfu"
      },
      "outputs": [],
      "source": [
        "bleu_score = sacrebleu.corpus_bleu([candidate], [[reference]])\n",
        "bleu_score.score"
      ]
    },
    {
      "cell_type": "code",
      "source": [
        "def bleu(candidate, reference):\n",
        "    return sacrebleu.corpus_bleu([candidate], [[reference]]).score\n",
        "\n",
        "def rouge(candidate, reference):\n",
        "    return Rouge().get_scores(candidate, reference)[0]['rouge-l']['f']"
      ],
      "metadata": {
        "id": "At0w8l7b66dH"
      },
      "execution_count": null,
      "outputs": []
    },
    {
      "cell_type": "markdown",
      "metadata": {
        "id": "4HHYbQwLsMeK"
      },
      "source": [
        "### Dataset"
      ]
    },
    {
      "cell_type": "markdown",
      "metadata": {
        "id": "vX9B7ZIWs37o"
      },
      "source": [
        "https://www.dropbox.com/scl/fi/xtvls58le65vxjfkmuv9x/Sentence-pairs-in-Spanish-English-2024-07-03.tsv?rlkey=3la4vmua8d5f5ltdknfhmcmyt&st=6cdj4k63&dl=0"
      ]
    },
    {
      "cell_type": "code",
      "source": [
        "from google.colab import drive\n",
        "drive.mount('/content/drive')"
      ],
      "metadata": {
        "id": "rnhWO4xu-vk7"
      },
      "execution_count": null,
      "outputs": []
    },
    {
      "cell_type": "code",
      "source": [
        "!wget -O Sentence_pairs_in_Spanish_English.tsv https://www.dropbox.com/scl/fi/ylj56w1b64tooyjdkvh9w/Sentence_pairs_in_Spanish_English.tsv?rlkey=h55bzeg30i12zohkqb28mooei&st=bbod2iu1&dl=0"
      ],
      "metadata": {
        "id": "rGT4Ne4zHUsq"
      },
      "execution_count": null,
      "outputs": []
    },
    {
      "cell_type": "code",
      "execution_count": null,
      "metadata": {
        "id": "yI_8WK3Du7Ad"
      },
      "outputs": [],
      "source": [
        "column_names = ['id_es', 'spanish', 'id_en', 'english']\n",
        "\n",
        "data = pd.read_csv('/content/drive/MyDrive/Sentence pairs in Spanish-English - 2024-07-03.tsv', sep='\\t', names=column_names, header=None)"
      ]
    },
    {
      "cell_type": "code",
      "source": [
        "column_names = ['id_es', 'spanish', 'id_en', 'english']\n",
        "data = pd.read_csv('Sentence_pairs_in_Spanish_English.tsv', sep='\\t', names=column_names, header=None)\n",
        "\n",
        "print(data[0:5])"
      ],
      "metadata": {
        "id": "BZFroGF9HaS1"
      },
      "execution_count": null,
      "outputs": []
    },
    {
      "cell_type": "markdown",
      "metadata": {
        "id": "GERKZIyUSF1Q"
      },
      "source": [
        "### NER(Named-entity recognition)"
      ]
    },
    {
      "cell_type": "code",
      "execution_count": null,
      "metadata": {
        "id": "R_Yydvirt0l4"
      },
      "outputs": [],
      "source": [
        "data.head()\n",
        "#data.describe()"
      ]
    },
    {
      "cell_type": "code",
      "source": [
        "length = 5\n",
        "spanish = data['spanish'].tolist()[0:length]\n",
        "candidates = [translate(text) for text in spanish]\n",
        "references = data['english'].tolist()[0:length]\n",
        "print(spanish)\n",
        "print(candidates)\n",
        "print(references)"
      ],
      "metadata": {
        "id": "UNPGNLOGM3y8"
      },
      "execution_count": null,
      "outputs": []
    },
    {
      "cell_type": "code",
      "source": [
        "length = 500\n",
        "print_interval = 20\n",
        "data_spanish = data['spanish'].tolist()[0:length]\n",
        "\n",
        "def make_columns():\n",
        "    spanish = []\n",
        "    candidates = []\n",
        "    references = []\n",
        "    bleu_scores = []\n",
        "    rogue_scores = []\n",
        "\n",
        "    # for multiple references take the best one\n",
        "    prev = '-1'\n",
        "    for i in range(len(data_spanish)):\n",
        "        if i % print_interval == 0:\n",
        "            print(i)\n",
        "\n",
        "        input = data_spanish[i]\n",
        "        if input != prev: # si es la primera referencia\n",
        "            spanish.append(input)\n",
        "            candidates.append(translate(input))\n",
        "            references.append(data['english'][i])\n",
        "            new_rogue_score = rouge(candidates[-1], references[-1])\n",
        "            rogue_scores.append(new_rogue_score)\n",
        "            new_bleu_score = bleu(candidates[-1], references[-1])\n",
        "            bleu_scores.append(new_bleu_score)\n",
        "\n",
        "        else: # para las otras referencias, si les va mejor reemplazamos\n",
        "            new_reference = data['english'][i]\n",
        "            new_rogue_score = rouge(candidates[-1], new_reference)\n",
        "            new_bleu_score = bleu(candidates[-1], new_reference)\n",
        "            if new_rogue_score > rogue_scores[-1] and new_bleu_score > bleu_scores[-1]:\n",
        "                references[-1] = new_reference\n",
        "                rogue_scores[-1] = new_rogue_score\n",
        "                bleu_scores[-1] = new_bleu_score\n",
        "        prev = input\n",
        "\n",
        "    return spanish, references, candidates, bleu_scores, rogue_scores\n",
        "\n",
        "\n",
        "spanish, references, candidates, bleu_scores, rogue_scores = make_columns()"
      ],
      "metadata": {
        "id": "i3w62ZOY75w7"
      },
      "execution_count": null,
      "outputs": []
    },
    {
      "cell_type": "code",
      "source": [
        "for col in (spanish, references, candidates, bleu_scores, rogue_scores):\n",
        "    print(col[0:5])"
      ],
      "metadata": {
        "id": "3jVQPrVOImdu"
      },
      "execution_count": null,
      "outputs": []
    },
    {
      "cell_type": "markdown",
      "source": [
        "https://huggingface.co/flair/upos-english-fast"
      ],
      "metadata": {
        "id": "bgOj7FG4X-gO"
      }
    },
    {
      "cell_type": "code",
      "source": [
        "tagger = SequenceTagger.load(\"flair/upos-english-fast\")\n",
        "# tagger = SequenceTagger.load(\"flair/upos-english\")"
      ],
      "metadata": {
        "id": "YlfhNQja7cy7"
      },
      "execution_count": null,
      "outputs": []
    },
    {
      "cell_type": "code",
      "source": [
        "def text_to_pos(text):\n",
        "    sentence = Sentence(text)\n",
        "    tagger.predict(sentence)\n",
        "    pos_list = [word.value for word in sentence.labels]\n",
        "    return \" \".join(pos_list)\n",
        "\n",
        "pos_references = []\n",
        "pos_candidates = []\n",
        "rogue_pos = []\n",
        "bleu_pos = []\n",
        "for i in range(len(candidates)):\n",
        "  if i % print_interval == 0:\n",
        "    print(i)\n",
        "  pos_references.append(text_to_pos(references[i]))\n",
        "  pos_candidates.append(text_to_pos(candidates[i]))\n",
        "  rogue_pos.append(rouge(pos_candidates[i], pos_references[i]))\n",
        "  bleu_pos.append(bleu(pos_candidates[i], pos_references[i]))\n",
        "\n",
        "for col in (pos_references, pos_candidates, rogue_pos, bleu_pos):\n",
        "    print(col[0:5])"
      ],
      "metadata": {
        "id": "YDAUApAKB14p"
      },
      "execution_count": null,
      "outputs": []
    },
    {
      "cell_type": "code",
      "source": [
        "# columns = {'spanish', 'candidate', 'reference', 'bleu', 'rogue', 'pos_reference', 'pos_candidate', 'bleu_pos', 'rogue_pos'}\n",
        "columns = {'spanish': spanish, 'reference': references, 'candidate': candidates, 'bleu': bleu_scores, 'rogue': rogue_scores,\n",
        "           'pos_reference': pos_references, 'pos_candidate': pos_candidates, 'bleu_pos': bleu_pos, 'rogue_pos': rogue_pos}\n",
        "df = pd.DataFrame(columns)"
      ],
      "metadata": {
        "id": "AsGTIigsDZLz"
      },
      "execution_count": null,
      "outputs": []
    },
    {
      "cell_type": "code",
      "source": [
        "df.head()"
      ],
      "metadata": {
        "id": "LvY_XE8GL0R3"
      },
      "execution_count": null,
      "outputs": []
    },
    {
      "cell_type": "code",
      "source": [
        "# Save dataframe df to tsv (tab separated values)\n",
        "df.to_csv('metrics500fast(1+5min).tsv', sep='\\t', index=False)"
      ],
      "metadata": {
        "id": "G3XiaGnkFKt8"
      },
      "execution_count": null,
      "outputs": []
    },
    {
      "cell_type": "markdown",
      "source": [
        "# Análisis"
      ],
      "metadata": {
        "id": "jvQ3xgbkYUTh"
      }
    },
    {
      "cell_type": "code",
      "source": [
        "# load dataframe from tsv:\n",
        "df = pd.read_csv('metrics500(15min).tsv', sep='\\t')"
      ],
      "metadata": {
        "id": "aJQfJHt5YILI"
      },
      "execution_count": null,
      "outputs": []
    },
    {
      "cell_type": "code",
      "source": [
        "# plot df.rogue\n",
        "sorted_rogue = df.sort_values(by=['rogue']).rogue\n",
        "sorted_rogue_reset = sorted_rogue.reset_index(drop=True)\n",
        "sorted_rogue_reset.plot()\n"
      ],
      "metadata": {
        "id": "QMyQDWhOYXhC"
      },
      "execution_count": null,
      "outputs": []
    },
    {
      "cell_type": "markdown",
      "source": [
        "# Otros codigos útiles:"
      ],
      "metadata": {
        "id": "-B1hZ_zxEp56"
      }
    },
    {
      "cell_type": "code",
      "source": [
        "data_spanish = data['spanish'].tolist()[0:length]\n",
        "spanish = []\n",
        "candidates = []\n",
        "references = []\n",
        "bleu_scores = []\n",
        "rogue_scores = []\n",
        "\n",
        "prev = '-1'\n",
        "for i in range(len(data_spanish)):\n",
        "    input = data_spanish[i]\n",
        "    if input != prev:\n",
        "        spanish.append(input)\n",
        "        candidates.append(translate(input))\n",
        "        references.append(data['english'][i])\n",
        "        new_rogue_score = rouge(candidates[-1], references[-1])\n",
        "        rogue_scores.append(new_rogue_score)\n",
        "        new_bleu_score = bleu(candidates[-1], references[-1])\n",
        "        bleu_scores.append(new_bleu_score)\n",
        "    else: # Repetido\n",
        "        new_reference = data['english'][i]\n",
        "        new_rogue_score = rouge(candidates[-1], new_reference)\n",
        "        new_bleu_score = bleu(candidates[-1], new_reference)\n",
        "        if new_rogue_score > rogue_scores[-1] and new_bleu_score > bleu_scores[-1]:\n",
        "            references[-1] = new_reference\n",
        "            rogue_scores[-1] = new_rogue_score\n",
        "            bleu_scores[-1] = new_bleu_score\n",
        "    prev = input\n",
        "\n",
        "\n",
        "print(spanish)\n",
        "print(candidates)\n",
        "print(references)\n",
        "print(bleu_scores)\n",
        "print(rogue_scores)"
      ],
      "metadata": {
        "id": "tyTdo4dtTx1R"
      },
      "execution_count": null,
      "outputs": []
    },
    {
      "cell_type": "code",
      "source": [
        "data_spanish = data['spanish'].tolist()[0:length]\n",
        "spanish = []\n",
        "candidates = []\n",
        "references = []\n",
        "\n",
        "prev = '-1'\n",
        "for i in range(len(data_spanish)):\n",
        "    input = data_spanish[i]\n",
        "    if input != prev:\n",
        "        spanish.append(input)\n",
        "        candidates.append(translate(input))\n",
        "        reference = [data['english'][i]]\n",
        "        references.append(reference)\n",
        "    else:\n",
        "        references[-1].append(data['english'][i])\n",
        "    prev = input\n",
        "\n",
        "\n",
        "print(spanish)\n",
        "print(candidates)\n",
        "print(references)"
      ],
      "metadata": {
        "id": "Iu2Fi2tWkU79"
      },
      "execution_count": null,
      "outputs": []
    },
    {
      "cell_type": "code",
      "source": [],
      "metadata": {
        "id": "vZIo9tkpEmob"
      },
      "execution_count": null,
      "outputs": []
    },
    {
      "cell_type": "markdown",
      "metadata": {
        "id": "IJzHMqp3SPnz"
      },
      "source": [
        "https://github.com/marcelomendoza/IIC3670/blob/main/codes/8%20-%20SEQUENCE%20LABELING%2C%20POS%20TAGGING%20Y%20NER.ipynb"
      ]
    }
  ],
  "metadata": {
    "colab": {
      "provenance": []
    },
    "kernelspec": {
      "display_name": "Python 3",
      "name": "python3"
    },
    "language_info": {
      "codemirror_mode": {
        "name": "ipython",
        "version": 3
      },
      "file_extension": ".py",
      "mimetype": "text/x-python",
      "name": "python",
      "nbconvert_exporter": "python",
      "pygments_lexer": "ipython3",
      "version": "3.10.12"
    }
  },
  "nbformat": 4,
  "nbformat_minor": 0
}